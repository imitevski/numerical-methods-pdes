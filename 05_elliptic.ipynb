{
 "cells": [
  {
   "cell_type": "markdown",
   "metadata": {
    "slideshow": {
     "slide_type": "skip"
    }
   },
   "source": [
    "<table>\n",
    " <tr align=left><td><img align=left src=\"https://i.creativecommons.org/l/by/4.0/88x31.png\">\n",
    " <td>Text provided under a Creative Commons Attribution license, CC-BY. All code is made available under the FSF-approved MIT license. (c) Kyle T. Mandli</td>\n",
    "</table>"
   ]
  },
  {
   "cell_type": "code",
   "execution_count": 2,
   "metadata": {
    "slideshow": {
     "slide_type": "skip"
    }
   },
   "outputs": [],
   "source": [
    "%matplotlib inline\n",
    "# from __future__ import print_function\n",
    "import numpy\n",
    "import matplotlib.pyplot as plt"
   ]
  },
  {
   "cell_type": "markdown",
   "metadata": {
    "slideshow": {
     "slide_type": "slide"
    }
   },
   "source": [
    "# Elliptic Equations"
   ]
  },
  {
   "cell_type": "markdown",
   "metadata": {
    "slideshow": {
     "slide_type": "subslide"
    }
   },
   "source": [
    "Higher dimensional elliptic equations in general have the form\n",
    "$$\n",
    "    a_1 u_{xx} + a_2 u_{xy} + a_3 u_{yy} + a_4 u_x + a_5 u_y + a_6 u = f\n",
    "$$\n",
    "where the coefficients must satisfy\n",
    "$$\n",
    "    a_2^2 - 4 a_1 a_3 < 0.\n",
    "$$"
   ]
  },
  {
   "cell_type": "markdown",
   "metadata": {
    "slideshow": {
     "slide_type": "subslide"
    }
   },
   "source": [
    "One natural place again that equations like this come up is again in the steady-state problems arising from the heat equation.  In two dimensions we have\n",
    "$$\n",
    "    u_t = (\\kappa u_x)_x + (\\kappa u_y)_y + \\Psi(x,y).\n",
    "$$\n",
    "If $u_t = 0$ we then have\n",
    "$$\n",
    "    (\\kappa u_x)_x + (\\kappa u_y)_y = -\\Psi(x,y).\n",
    "$$"
   ]
  },
  {
   "cell_type": "markdown",
   "metadata": {
    "slideshow": {
     "slide_type": "subslide"
    }
   },
   "source": [
    "If we assume $\\kappa$ to be constant we can rewrite this equation as\n",
    "$$\n",
    "    u_{xx} + u_{yy} = -\\frac{\\Psi}{\\kappa} = f(x,y)\n",
    "$$\n",
    "which is the higher dimensional form of Poisson's equation (and Laplace's equation if $f(x,y) = 0$).\n",
    "\n",
    "We also must specify a domain $\\Omega$ and boundary conditions as before.  Now the boundary conditions will have $x$ and $y$ dependence so will need to be handled a bit differently than before."
   ]
  },
  {
   "cell_type": "markdown",
   "metadata": {
    "slideshow": {
     "slide_type": "slide"
    }
   },
   "source": [
    "## 5-Point Stencil\n",
    "\n",
    "Extending our work in one-dimension to two we can construct the 5-point stencil for the Laplacian operator as\n",
    "$$\n",
    "    \\nabla^2 u \\approx \\frac{U_{i-1,j} - 2 U_{i,j} + U_{i+1,j}}{\\Delta x^2} + \\frac{U_{i,j-1} - 2 U_{i,j} + U_{i,j+1}}{\\Delta y^2}.\n",
    "$$"
   ]
  },
  {
   "cell_type": "markdown",
   "metadata": {
    "slideshow": {
     "slide_type": "subslide"
    }
   },
   "source": [
    "If $\\Delta x = \\Delta y$ we can simplify this expression to\n",
    "$$\n",
    "    \\nabla^2 u \\approx \\frac{U_{i-1,j} + U_{i+1,j} - 4 U_{i,j}  + U_{i,j-1} + U_{i,j+1}}{\\Delta x^2}\n",
    "$$"
   ]
  },
  {
   "cell_type": "markdown",
   "metadata": {
    "slideshow": {
     "slide_type": "subslide"
    }
   },
   "source": [
    "We can the approximate the solution to the Poisson equation as\n",
    "$$\n",
    "    \\frac{U_{i-1,j} + U_{i+1,j} - 4 U_{i,j}  + U_{i,j-1} + U_{i,j+1}}{\\Delta x^2} = f_{i,j}\n",
    "$$\n",
    "which leads to $m^2$ equations for $m^2$ unknowns."
   ]
  },
  {
   "cell_type": "markdown",
   "metadata": {
    "slideshow": {
     "slide_type": "slide"
    }
   },
   "source": [
    "## Ordering of Unknowns"
   ]
  },
  {
   "cell_type": "markdown",
   "metadata": {
    "slideshow": {
     "slide_type": "subslide"
    }
   },
   "source": [
    "We can think of our two-dimensional problem as laying on a grid as in the following figure.  Here the unknows are in red and the boundaries are in blue:\n",
    "![2D Grid](./images/2d_grid.png)"
   ]
  },
  {
   "cell_type": "markdown",
   "metadata": {
    "slideshow": {
     "slide_type": "subslide"
    }
   },
   "source": [
    "We can think of the grid as being a matrix like\n",
    "$$\n",
    "    U = \\begin{bmatrix}\n",
    "        U_{1, m}   & U_{2, m}   & \\cdots & U_{m-1, m}   & U_{m,m}    \\\\\n",
    "        U_{1, m-1} & U_{2, m-1} & \\cdots & U_{m-1, m-1} & U_{m, m-1} \\\\\n",
    "        \\vdots & & & & \\vdots \\\\\n",
    "        U_{1, 2} & U_{2, 2}     & \\cdots & U_{m-1, 2}   & U_{m, 2}   \\\\\n",
    "        U_{1, 1} & U_{2, 1}     & \\cdots & U_{m-1, 1}   & U_{m, 1}   \\\\\n",
    "    \\end{bmatrix}\n",
    "$$\n",
    "It is important to note that this labeling does not match our usual matrix notation!"
   ]
  },
  {
   "cell_type": "markdown",
   "metadata": {
    "slideshow": {
     "slide_type": "subslide"
    }
   },
   "source": [
    "When we had a single dimension the ordering of the unknowns (and equations) was pretty clear but now we have a number of choices to make.  Perhaps the obvious choice is to break up the 2d array into rows and append each to the end of the previous one.  This leads to the ordering\n",
    "$$\n",
    "    U = [U_{1, 1}, U_{2, 1}, \\ldots, U_{m-1,1}, U_{m, 1}, U_{1, 2}, U_{22},\\ldots, U_{m-1,m}, U_{mm}]\n",
    "$$\n",
    "\n",
    "See if you can figure out the structure of the matrix $A$ now with this ordering."
   ]
  },
  {
   "cell_type": "markdown",
   "metadata": {
    "slideshow": {
     "slide_type": "subslide"
    }
   },
   "source": [
    "This leads to a matrix of the form\n",
    "$$\n",
    "    A = \\frac{1}{\\Delta x^2} \\begin{bmatrix}\n",
    "        T & I \\\\\n",
    "        I & T & I \\\\\n",
    "          & I & T & I \\\\\n",
    "          &   & \\ddots & \\ddots & \\ddots \\\\\n",
    "          &   &        & I & T & I \\\\\n",
    "          &   &        &   & I & T\n",
    "    \\end{bmatrix}\n",
    "$$\n",
    "where the matrix $T$ is\n",
    "$$\n",
    "    T = \\begin{bmatrix}\n",
    "        -4 & 1 \\\\\n",
    "        1 & -4 & 1 \\\\\n",
    "          & 1 & -4 & 1 \\\\\n",
    "          &   & \\ddots & \\ddots & \\ddots \\\\\n",
    "          &   &        & 1 & -4 & 1 \\\\\n",
    "          &   &        &   & 1 & -4\n",
    "    \\end{bmatrix}\n",
    "$$\n",
    "and $I$ is the $m \\times m$ identity matrix."
   ]
  },
  {
   "cell_type": "markdown",
   "metadata": {
    "slideshow": {
     "slide_type": "subslide"
    }
   },
   "source": [
    "Another possibility is *red-black* ordering (like a checker board).  Here we \"color\" each unknown in our grid alternating colors, each colored unknown then is grouped together.  \n",
    "\n",
    "![2D Grid Red-Black Ordering](./images/2d_grid_red_black.png)\n",
    "\n",
    "Can you figure out what the matrix looks like in this case?"
   ]
  },
  {
   "cell_type": "markdown",
   "metadata": {
    "slideshow": {
     "slide_type": "subslide"
    }
   },
   "source": [
    "For red-black ordering we are lead to the matrix\n",
    "$$\n",
    "    \\begin{bmatrix}\n",
    "        D & H \\\\\n",
    "        H^T & D\n",
    "    \\end{bmatrix} \\begin{bmatrix}\n",
    "        U_{\\text{red}} \\\\\n",
    "        U_{\\text{black}}\n",
    "    \\end{bmatrix} =\n",
    "    \\begin{bmatrix}\n",
    "        f_{\\text{red}} \\\\\n",
    "        f_{\\text{black}}\n",
    "    \\end{bmatrix}\n",
    "$$\n",
    "Here $D = -4 / \\Delta x^2 I$, a diagonal matrix of dimension $m^2 / 2$ and $H$ a *banded matrix* with 4 non-zero diagonals.\n",
    "\n",
    "Usually the goal with ordering is either to make the gaps between non-zero elements as small as possible and reduce the amount of \"fill-in\" when solving using say Gaussian elimination.  This is often taken care of automatically when using sophisticated solving routines."
   ]
  },
  {
   "cell_type": "markdown",
   "metadata": {
    "slideshow": {
     "slide_type": "subslide"
    }
   },
   "source": [
    "Solve the following PDE using the ordering of your choice:\n",
    "$$\n",
    "    \\nabla^2 u = -2\\sin x \\sin y \\quad \\Omega = [0, 2 \\pi] \\times [0 , 2 \\pi] \\\\\n",
    "    u(x,0) = 0, u(x, 2 \\pi) = 0, u(0, y) = 0, u(2 \\pi, y) = 0.\n",
    "$$"
   ]
  },
  {
   "cell_type": "code",
   "execution_count": 2,
   "metadata": {
    "slideshow": {
     "slide_type": "skip"
    }
   },
   "outputs": [
    {
     "name": "stdout",
     "output_type": "stream",
     "text": [
      "(10000, 10000) (100, 100)\n",
      "0.0012900074949674842\n"
     ]
    },
    {
     "ename": "NameError",
     "evalue": "name 'plt' is not defined",
     "output_type": "error",
     "traceback": [
      "\u001b[0;31m---------------------------------------------------------------------------\u001b[0m",
      "\u001b[0;31mNameError\u001b[0m                                 Traceback (most recent call last)",
      "\u001b[0;32m<ipython-input-2-9ff53e2867be>\u001b[0m in \u001b[0;36m<module>\u001b[0;34m\u001b[0m\n\u001b[1;32m     30\u001b[0m \u001b[0;34m\u001b[0m\u001b[0m\n\u001b[1;32m     31\u001b[0m \u001b[0;31m# Plot solution\u001b[0m\u001b[0;34m\u001b[0m\u001b[0;34m\u001b[0m\u001b[0;34m\u001b[0m\u001b[0m\n\u001b[0;32m---> 32\u001b[0;31m \u001b[0mfig\u001b[0m \u001b[0;34m=\u001b[0m \u001b[0mplt\u001b[0m\u001b[0;34m.\u001b[0m\u001b[0mfigure\u001b[0m\u001b[0;34m(\u001b[0m\u001b[0;34m)\u001b[0m\u001b[0;34m\u001b[0m\u001b[0;34m\u001b[0m\u001b[0m\n\u001b[0m\u001b[1;32m     33\u001b[0m \u001b[0maxes\u001b[0m \u001b[0;34m=\u001b[0m \u001b[0mfig\u001b[0m\u001b[0;34m.\u001b[0m\u001b[0madd_subplot\u001b[0m\u001b[0;34m(\u001b[0m\u001b[0;36m1\u001b[0m\u001b[0;34m,\u001b[0m \u001b[0;36m1\u001b[0m\u001b[0;34m,\u001b[0m \u001b[0;36m1\u001b[0m\u001b[0;34m)\u001b[0m\u001b[0;34m\u001b[0m\u001b[0;34m\u001b[0m\u001b[0m\n\u001b[1;32m     34\u001b[0m \u001b[0msol_plot\u001b[0m \u001b[0;34m=\u001b[0m \u001b[0maxes\u001b[0m\u001b[0;34m.\u001b[0m\u001b[0mpcolor\u001b[0m\u001b[0;34m(\u001b[0m\u001b[0mX\u001b[0m\u001b[0;34m,\u001b[0m \u001b[0mY\u001b[0m\u001b[0;34m,\u001b[0m \u001b[0mU\u001b[0m\u001b[0;34m,\u001b[0m \u001b[0mcmap\u001b[0m\u001b[0;34m=\u001b[0m\u001b[0mplt\u001b[0m\u001b[0;34m.\u001b[0m\u001b[0mget_cmap\u001b[0m\u001b[0;34m(\u001b[0m\u001b[0;34m'RdBu_r'\u001b[0m\u001b[0;34m)\u001b[0m\u001b[0;34m)\u001b[0m\u001b[0;34m\u001b[0m\u001b[0;34m\u001b[0m\u001b[0m\n",
      "\u001b[0;31mNameError\u001b[0m: name 'plt' is not defined"
     ]
    }
   ],
   "source": [
    "import numpy\n",
    "import scipy.sparse as sparse\n",
    "import scipy.sparse.linalg as linalg\n",
    "\n",
    "# Problem specification\n",
    "m = 100\n",
    "x = numpy.linspace(0, 2.0 * numpy.pi, m + 2)\n",
    "y = numpy.linspace(0, 2.0 * numpy.pi, m + 2)\n",
    "delta_x = 2.0 * numpy.pi / (m + 1)\n",
    "\n",
    "# Construct A\n",
    "e = numpy.ones(m)\n",
    "T = sparse.spdiags([e, -4.0 * e, e], [-1, 0, 1], m, m)\n",
    "S = sparse.spdiags([e, e], [-1, 1], m, m)\n",
    "I = sparse.eye(m)\n",
    "A = sparse.kron(I, T) + sparse.kron(S, I)\n",
    "A /= delta_x**2\n",
    "\n",
    "# Right-hand-side\n",
    "X, Y = numpy.meshgrid(x[1:-1], y[1:-1])\n",
    "f = -2.0 * numpy.sin(X) * numpy.sin(Y)\n",
    "print(A.shape, f.shape)\n",
    "# Solve\n",
    "U = numpy.zeros((m+2, m+2))\n",
    "U[1:-1, 1:-1] = linalg.spsolve(A, f.reshape(m**2, order='F')).reshape((m, m), order='F')\n",
    "\n",
    "# Error\n",
    "X, Y = numpy.meshgrid(x, y)\n",
    "print(numpy.linalg.norm((x[1] - x[0]) * (U - numpy.sin(X) * numpy.sin(Y)), ord=1))\n",
    "\n",
    "# Plot solution\n",
    "fig = plt.figure()\n",
    "axes = fig.add_subplot(1, 1, 1)\n",
    "sol_plot = axes.pcolor(X, Y, U, cmap=plt.get_cmap('RdBu_r'))\n",
    "axes.set_title(\"Solution u(x,y)\")\n",
    "axes.set_xlabel(\"x\")\n",
    "axes.set_ylabel(\"y\")\n",
    "axes.set_xlim((0.0, 2.0 * numpy.pi))\n",
    "axes.set_ylim((0.0, 2.0 * numpy.pi))\n",
    "cbar = fig.colorbar(sol_plot, ax=axes)\n",
    "cbar.set_label(\"u(x, y)\")\n",
    "\n",
    "fig = plt.figure()\n",
    "axes = fig.add_subplot(1, 1, 1)\n",
    "sol_plot = axes.pcolor(X, Y, numpy.abs(U - numpy.sin(X) * numpy.sin(Y)), cmap=plt.get_cmap('RdBu_r'))\n",
    "axes.set_title(\"Error |U - u|\")\n",
    "axes.set_xlabel(\"x\")\n",
    "axes.set_ylabel(\"y\")\n",
    "axes.set_xlim((0.0, 2.0 * numpy.pi))\n",
    "axes.set_ylim((0.0, 2.0 * numpy.pi))\n",
    "cbar = fig.colorbar(sol_plot, ax=axes)\n",
    "cbar.set_label(\"u(x, y)\")\n",
    "plt.show()"
   ]
  },
  {
   "cell_type": "code",
   "execution_count": null,
   "metadata": {},
   "outputs": [],
   "source": [
    "print(A)"
   ]
  },
  {
   "cell_type": "markdown",
   "metadata": {
    "slideshow": {
     "slide_type": "slide"
    }
   },
   "source": [
    "## Accuracy and Stability"
   ]
  },
  {
   "cell_type": "markdown",
   "metadata": {
    "slideshow": {
     "slide_type": "subslide"
    }
   },
   "source": [
    "We can of course (and should) ask the same questions as with the one-dimensional case, namely whether our scheme will converge.  To do this we need to consider the LTE and the stability of our method."
   ]
  },
  {
   "cell_type": "markdown",
   "metadata": {
    "slideshow": {
     "slide_type": "subslide"
    }
   },
   "source": [
    "We know that the LTE is defined as\n",
    "$$\\begin{aligned}\n",
    "    \\tau_{ij} &= \\frac{1}{\\Delta x^2} (u(x_{i-1}, y_{j}) + u(x_{i+1}, y_{j}) + u(x_{i}, y_{j-1}) + u(x_{i}, y_{j+1}) - 4 u(x_{i}, y_{j})) - f(x_i, y_j)\n",
    "\\end{aligned}$$"
   ]
  },
  {
   "cell_type": "markdown",
   "metadata": {
    "slideshow": {
     "slide_type": "subslide"
    }
   },
   "source": [
    "To compute this expression we need the Taylor series in each direction.\n",
    "\n",
    "For the x-direction:\n",
    "$$\\begin{aligned}\n",
    "    u(x_{i+1}, y_{j}) &= u(x_{i}, y_{j}) + \\Delta x u(x_{i}, y_{j})_x + \\frac{\\Delta x^2}{2} u(x_{i}, y_{j})_{xx} + \\frac{\\Delta x^3}{6} u(x_{i}, y_{j})_{xxx} + \\frac{\\Delta x^4}{24} u(x_{i}, y_{j})_{xxxx} + \\mathcal{O}(\\Delta x^5) \\\\\n",
    "    u(x_{i-1}, y_{j}) &= u(x_{i}, y_{j}) - \\Delta x u(x_{i}, y_{j})_x + \\frac{\\Delta x^2}{2} u(x_{i}, y_{j})_{xx} - \\frac{\\Delta^3}{6} u(x_{i}, y_{j})_{xxx} + \\frac{\\Delta x^4}{24} u(x_{i}, y_{j})_{xxxx} + \\mathcal{O}(\\Delta x^5)\n",
    "\\end{aligned}$$\n",
    "\n",
    "For the y-direction:\n",
    "$$\\begin{aligned}\n",
    "    u(x_{i}, y_{j+1}) &= u(x_{i}, y_{j}) + \\Delta y u(x_{i}, y_{j})_y + \\frac{\\Delta y^2}{2} u(x_{i}, y_{j})_{yy} + \\frac{\\Delta y^3}{6} u(x_{i}, y_{j})_{yyy} + \\frac{\\Delta y^4}{24} u(x_{i}, y_{j})_{yyyy} + \\mathcal{O}(\\Delta y^5) \\\\\n",
    "    u(x_{i}, y_{j-1}) &= u(x_{i}, y_{j}) - \\Delta y u(x_{i}, y_{j})_y + \\frac{\\Delta y^2}{2} u(x_{i}, y_{j})_{yy} - \\frac{\\Delta y^3}{6} u(x_{i}, y_{j})_{yyy} + \\frac{\\Delta y^4}{24} u(x_{i}, y_{j})_{yyyy} + \\mathcal{O}(\\Delta y^5)\n",
    "\\end{aligned}$$"
   ]
  },
  {
   "cell_type": "markdown",
   "metadata": {
    "slideshow": {
     "slide_type": "subslide"
    }
   },
   "source": [
    "Also using the Taylor expansions in the y-direction we can write the LTE as\n",
    "$$\n",
    "    \\tau_{ij} =  \\frac{1}{12} \\Delta x^2 (u_{xxxx} + u_{yyyy}) + \\mathcal{O}(\\Delta x^4).\n",
    "$$"
   ]
  },
  {
   "cell_type": "markdown",
   "metadata": {
    "slideshow": {
     "slide_type": "subslide"
    }
   },
   "source": [
    "The linear system for the LTE then has the form\n",
    "$$\n",
    "    A_{\\Delta x} E_{\\Delta x} = -\\tau_{\\Delta x}\n",
    "$$\n",
    "where now $A$ is the discretization we wrote before.  Note that the ordering of the equations does not matter when considering the error."
   ]
  },
  {
   "cell_type": "markdown",
   "metadata": {
    "slideshow": {
     "slide_type": "subslide"
    }
   },
   "source": [
    "For the stability in the 2-norm we again can consider the eigenvalues of the system above.  The eigenvalues are\n",
    "$$\n",
    "    \\lambda_{pq} = \\frac{2}{\\Delta x^2} ((\\cos(p \\pi \\Delta x) - 1) + (\\cos(q \\pi \\Delta x) - 1))\n",
    "$$\n",
    "with corresponding eigenvectors\n",
    "$$\n",
    "    v^{p,q}_{ij} = \\sin(p \\pi i \\Delta x) \\sin(q \\pi j \\Delta x).\n",
    "$$"
   ]
  },
  {
   "cell_type": "markdown",
   "metadata": {
    "slideshow": {
     "slide_type": "subslide"
    }
   },
   "source": [
    "Since the eigenvalues are strictly negative ($A$ is in fact negative definite) the closest one to the origin is\n",
    "$$\n",
    "    \\lambda_{11} = -2 \\pi^2 + \\mathcal{O}(\\Delta x^2)\n",
    "$$\n",
    "leading to the spectral radius\n",
    "$$\n",
    "    \\rho((A^{\\Delta x})^{-1}) = \\frac{1}{\\lambda_{11}} \\approx -\\frac{1}{2 \\pi^2}.\n",
    "$$\n",
    "We can use this bound on $A^{-1}$ then to show stability and hence convergence of the discretization."
   ]
  },
  {
   "cell_type": "markdown",
   "metadata": {
    "slideshow": {
     "slide_type": "subslide"
    }
   },
   "source": [
    "A similar and useful quantity to consider is the *condition number* of the matrix $A$.  Recall that this can be defined as\n",
    "$$\n",
    "    \\kappa(A) = ||A|| ||A^{-1}||.\n",
    "$$"
   ]
  },
  {
   "cell_type": "markdown",
   "metadata": {
    "slideshow": {
     "slide_type": "subslide"
    }
   },
   "source": [
    "In the 2-norm we already know some information about $A^{-1}$ but we can use our expressions from above to also find the spectral radius of $A$.  The largest eigenvalue there is \n",
    "$$\n",
    "    \\lambda_{mm} \\approx -\\frac{8}{\\Delta x^2}\n",
    "$$\n",
    "leading to the condition number\n",
    "$$\n",
    "    \\kappa_2(A) = \\frac{4}{\\pi^2 \\Delta x^2} = \\mathcal{O}\\left(\\frac{1}{\\Delta x^2}\\right)\n",
    "$$\n",
    "This matrix therefore becomes more ill-conditioned as $\\Delta x \\rightarrow 0$."
   ]
  },
  {
   "cell_type": "code",
   "execution_count": 4,
   "metadata": {
    "slideshow": {
     "slide_type": "skip"
    }
   },
   "outputs": [
    {
     "data": {
      "image/png": "[encoded data removed]",
      "text/plain": [
       "<Figure size 432x288 with 1 Axes>"
      ]
     },
     "metadata": {
      "needs_background": "light"
     },
     "output_type": "display_data"
    }
   ],
   "source": [
    "# Compute the eigenvalues\n",
    "m = 10\n",
    "delta_x = 1.0 / float(m + 1)\n",
    "eig_vals = numpy.empty(m**2)\n",
    "for (i, p) in enumerate(numpy.arange(1, m + 1)):\n",
    "    for (j, q) in enumerate(numpy.arange(1, m + 1)):\n",
    "        eig_vals[i * m + j] = 2.0 / delta_x**2 * ((numpy.cos(p * numpy.pi * delta_x) - 1.0) +\n",
    "                                                  (numpy.cos(q * numpy.pi * delta_x) - 1.0))\n",
    "\n",
    "# Plot of the eigenvalues of the 5-point Laplacian\n",
    "fig = plt.figure()\n",
    "axes = fig.add_subplot(1, 1, 1)\n",
    "axes.plot(eig_vals.real, eig_vals.imag, 'o')\n",
    "axes.grid(True)\n",
    "axes.set_xlim(numpy.amin(eig_vals), -numpy.amin(eig_vals) * 0.1)\n",
    "plt.show()"
   ]
  },
  {
   "cell_type": "markdown",
   "metadata": {
    "slideshow": {
     "slide_type": "slide"
    }
   },
   "source": [
    "## 9-Point Laplacian"
   ]
  },
  {
   "cell_type": "markdown",
   "metadata": {
    "slideshow": {
     "slide_type": "subslide"
    }
   },
   "source": [
    "Another approach to discretizing the Laplacian $\\nabla^2$ is called the 9-point stencil.  This stencil is defined as\n",
    "$$\n",
    "    \\nabla^2 u_{ij} = \\frac{1}{6 \\Delta x^2} \\left(4 u_{i-1,j} + 4 u_{i+1,j} + 4 u_{i,j-1} + 4 u_{i,j+1} + u_{i-1,j-1} + u_{i+1,j-1} + u_{i+1,j+1} + u_{i-1,j+1} -20 u_{i,j}  \\right).\n",
    "$$"
   ]
  },
  {
   "cell_type": "markdown",
   "metadata": {
    "slideshow": {
     "slide_type": "subslide"
    }
   },
   "source": [
    "We can also find the LTE as before to find\n",
    "$$\n",
    "    \\tau_{ij} = \\frac{\\Delta x^2}{12} (u_{xxxx} + u_{xxyy} + u_{yyyy}) + \\mathcal{O}(\\Delta x^4).\n",
    "$$"
   ]
  },
  {
   "cell_type": "markdown",
   "metadata": {
    "slideshow": {
     "slide_type": "subslide"
    }
   },
   "source": [
    "So what did we gain?  If we look at $\\tau_{ij}$ we can actually write the derivative terms as\n",
    "$$\n",
    "    u_{xxxx} + u_{xxyy} + u_{yyyy} = \\nabla^2 (\\nabla^2 u) \\equiv \\nabla^4 u,\n",
    "$$\n",
    "i.e. the Laplacian of the Laplacian (called the *biharmonic operator*).  If we return to the original PDE, we can directly find the form of this error by noting\n",
    "$$\\begin{aligned}\n",
    "    \\nabla^2 u &= f \\\\\n",
    "    \\nabla^2 (\\nabla^2 u) &= \\nabla^2 f\n",
    "\\end{aligned}$$\n",
    "We can therefore compute the error terms directly by taking the Laplacian of the right hand side of the original PDE!"
   ]
  },
  {
   "cell_type": "markdown",
   "metadata": {
    "slideshow": {
     "slide_type": "subslide"
    }
   },
   "source": [
    "This also can lead to a higher-order method.  If we define\n",
    "$$\n",
    "    f_{ij} = f(x_i, y_j) + \\frac{\\Delta x^2}{12} \\nabla^2 f(x_i, y_j)\n",
    "$$\n",
    "we can cancel out the next term of the LTE!  We can even do this if we only have the function $f(x,y)$ on a set of discrete points as we can use the 5-point stencil"
   ]
  }
 ],
 "metadata": {
  "celltoolbar": "Slideshow",
  "kernelspec": {
   "display_name": "Python 3",
   "language": "python",
   "name": "python3"
  },
  "language_info": {
   "codemirror_mode": {
    "name": "ipython",
    "version": 3
   },
   "file_extension": ".py",
   "mimetype": "text/x-python",
   "name": "python",
   "nbconvert_exporter": "python",
   "pygments_lexer": "ipython3",
   "version": "3.6.7"
  },
  "latex_envs": {
   "bibliofile": "biblio.bib",
   "cite_by": "apalike",
   "current_citInitial": 1,
   "eqLabelWithNumbers": true,
   "eqNumInitial": 0
  }
 },
 "nbformat": 4,
 "nbformat_minor": 1
}
